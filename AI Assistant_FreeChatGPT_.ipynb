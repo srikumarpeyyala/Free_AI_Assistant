{
 "cells": [
  {
   "cell_type": "markdown",
   "id": "5e3b7532-499d-4147-8656-e713107cc358",
   "metadata": {},
   "source": [
    "##**Requirements**\n",
    "\n",
    "* Speech Recognition (Google/Microsoft)\n",
    "* Python Text-To-Speech x3 (pyttsx3)\n",
    "* Python Audio (pyaudio)\n",
    "* curl-cffi\n",
    "* OpenAI (g4f)"
   ]
  },
  {
   "cell_type": "markdown",
   "id": "b02f7b0d-0601-4aaf-ba50-b80f0b5e50eb",
   "metadata": {},
   "source": [
    "## How it works\n",
    "- It'll start automatically once all of these are executed\n",
    "- To end the conversation, say \"exit\""
   ]
  },
  {
   "cell_type": "code",
   "execution_count": 7,
   "id": "7d5c01c0-7f1d-4665-beeb-23c6b7de64f1",
   "metadata": {},
   "outputs": [],
   "source": [
    "import speech_recognition as sr\n",
    "import pyttsx3\n",
    "import pyaudio"
   ]
  },
  {
   "cell_type": "code",
   "execution_count": 8,
   "id": "4139aa57-13bf-4238-a35c-5694ea4cda59",
   "metadata": {},
   "outputs": [],
   "source": [
    "from openai import OpenAI"
   ]
  },
  {
   "cell_type": "code",
   "execution_count": 9,
   "id": "6d0063c3-a060-4131-88c4-8be4c5d16fc9",
   "metadata": {},
   "outputs": [],
   "source": [
    "recognizer = sr.Recognizer()\n",
    "engine = pyttsx3.init()"
   ]
  },
  {
   "cell_type": "code",
   "execution_count": 10,
   "id": "f628b966-f757-42e2-851a-5ffd39c48ec2",
   "metadata": {},
   "outputs": [],
   "source": [
    "from g4f.client import Client\n",
    "\n",
    "client = Client()"
   ]
  },
  {
   "cell_type": "code",
   "execution_count": 11,
   "id": "c339a3b0-b8cd-4a69-98d8-d3243b53c00e",
   "metadata": {},
   "outputs": [],
   "source": [
    "def transcribe_audio_to_text(audio):\n",
    "    \"\"\"Transcribes audio to text using Google Speech Recognition API.\"\"\"\n",
    "    try:\n",
    "        return recognizer.recognize_google(audio)\n",
    "    except sr.UnknownValueError:\n",
    "        return \"I didn't catch that.\"\n",
    "    except sr.RequestError:\n",
    "        return \"Speech recognition service is down.\"\n",
    "\n",
    "\n",
    "def get_ai_response(prompt):\n",
    "    response = client.chat.completions.create(\n",
    "        model=\"gpt-3.5-turbo\",\n",
    "        messages=[\n",
    "            {\"role\": \"user\", \"content\": prompt}\n",
    "        ]\n",
    "    )\n",
    "    return response.choices[0].message.content"
   ]
  },
  {
   "cell_type": "markdown",
   "id": "ff57cd26-5451-4127-9e1c-96875d30f831",
   "metadata": {},
   "source": [
    "**This is ref**"
   ]
  },
  {
   "cell_type": "markdown",
   "id": "5498fb19-2eca-4ee3-b10d-ac3567270258",
   "metadata": {},
   "source": [
    "from openai import OpenAI\n",
    "\n",
    "client = OpenAI()\n",
    "\n",
    "completion = client.completions.create(model='curie')\n",
    "print(completion.choices[0].text)\n",
    "print(dict(completion).get('usage'))\n",
    "print(completion.model_dump_json(indent=2))\n"
   ]
  },
  {
   "cell_type": "code",
   "execution_count": 15,
   "id": "8c05e4a9-9391-46b7-b751-0fcaa17045af",
   "metadata": {
    "scrolled": true
   },
   "outputs": [
    {
     "name": "stdout",
     "output_type": "stream",
     "text": [
      "Listening...\n",
      "You said: I didn't catch that.\n",
      "Assistant: I am here to assist you. How can I help you today?\n",
      "Listening...\n",
      "You said: help me build a resume\n",
      "Assistant: Of course! Let's start by listing your contact information at the top of the resume. Include your full name, phone number, email address, and any professional social media profiles you want to share. Let me know when you're ready to move on to the next section.\n",
      "Listening...\n",
      "You said: Aaah, I've changed my mind why don't we talk about something about movies\n",
      "Assistant: Sure! I'd love to talk about movies. What's your favorite movie genre or film?\n",
      "Listening...\n",
      "You said: I love action adventure Romance comedy and horror. what's yours?\n",
      "Assistant: As an AI assistant, I don't have personal preferences or emotions like humans do, so I don't have a favorite genre. However, I can definitely help you find recommendations and information on action, adventure, romance, comedy, and horror movies within those genres! Just let me know what you're looking for, and I'll do my best to assist you.\n",
      "Listening...\n",
      "You said: exit\n"
     ]
    }
   ],
   "source": [
    "def speak_text(text):\n",
    "    \"\"\"Speaks the given text using pyttsx3.\"\"\"\n",
    "    engine.say(text)\n",
    "    engine.runAndWait()\n",
    "\n",
    "while True:\n",
    "    try:\n",
    "        with sr.Microphone() as source:\n",
    "            print(\"Listening...\")\n",
    "            audio = recognizer.listen(source)\n",
    "            text = transcribe_audio_to_text(audio)\n",
    "            print(f\"You said: {text}\")\n",
    "\n",
    "            if text.lower() == \"exit\":\n",
    "                break\n",
    "\n",
    "            ai_response = get_ai_response(text)\n",
    "            print(f\"Assistant: {ai_response}\")\n",
    "            speak_text(ai_response)\n",
    "\n",
    "    except Exception as e:\n",
    "        print(f\"Error: {e}\")"
   ]
  }
 ],
 "metadata": {
  "kernelspec": {
   "display_name": "Python 3 (ipykernel)",
   "language": "python",
   "name": "python3"
  },
  "language_info": {
   "codemirror_mode": {
    "name": "ipython",
    "version": 3
   },
   "file_extension": ".py",
   "mimetype": "text/x-python",
   "name": "python",
   "nbconvert_exporter": "python",
   "pygments_lexer": "ipython3",
   "version": "3.11.9"
  }
 },
 "nbformat": 4,
 "nbformat_minor": 5
}
